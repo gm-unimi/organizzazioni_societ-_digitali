{
 "cells": [
  {
   "cell_type": "markdown",
   "metadata": {},
   "source": [
    "## ESERCIZIO 2 NumPy Array Attributes"
   ]
  },
  {
   "cell_type": "markdown",
   "metadata": {},
   "source": [
    "* Creare un array es1 di valori casuali interi (randint) di dimensione 3x5, con\n",
    "valore massimo (incluso) uguale a 8. Visualizzare es1"
   ]
  },
  {
   "cell_type": "code",
   "execution_count": 2,
   "metadata": {
    "collapsed": false,
    "jupyter": {
     "outputs_hidden": false
    }
   },
   "outputs": [
    {
     "data": {
      "text/plain": [
       "array([[5, 0, 3, 3, 7],\n",
       "       [3, 5, 2, 4, 7],\n",
       "       [6, 8, 8, 1, 6]])"
      ]
     },
     "execution_count": 2,
     "metadata": {},
     "output_type": "execute_result"
    }
   ],
   "source": [
    "import numpy as np\n",
    "np.random.seed(0)  # seed for reproducibility\n",
    "\n",
    "es1 = np.random.randint(9, size=(3, 5))\n",
    "es1"
   ]
  },
  {
   "cell_type": "markdown",
   "metadata": {
    "jupyter": {
     "outputs_hidden": false
    }
   },
   "source": [
    " * Selezionare gli elementi che hanno valore 3\n",
    " *1 prima utilizzando la posizione come indice \n",
    " *2  poi usando la forma negativa dalla fine dell’array "
   ]
  },
  {
   "cell_type": "code",
   "execution_count": 5,
   "metadata": {
    "collapsed": false,
    "jupyter": {
     "outputs_hidden": false
    }
   },
   "outputs": [
    {
     "data": {
      "text/plain": [
       "(3, 3, 3)"
      ]
     },
     "execution_count": 5,
     "metadata": {},
     "output_type": "execute_result"
    }
   ],
   "source": [
    "#punto 1\n",
    "es1[0, 2], es1[0,3], es1[1,0]"
   ]
  },
  {
   "cell_type": "code",
   "execution_count": 4,
   "metadata": {
    "collapsed": false,
    "jupyter": {
     "outputs_hidden": false
    }
   },
   "outputs": [
    {
     "data": {
      "text/plain": [
       "(3, 3, 3)"
      ]
     },
     "execution_count": 4,
     "metadata": {},
     "output_type": "execute_result"
    }
   ],
   "source": [
    "#punto 2a: prima uso l'indice negativo solo per le colonne\n",
    "es1[0,-3], es1[0,-2], es1[1,-5]"
   ]
  },
  {
   "cell_type": "code",
   "execution_count": 6,
   "metadata": {},
   "outputs": [
    {
     "data": {
      "text/plain": [
       "(3, 3, 3)"
      ]
     },
     "execution_count": 6,
     "metadata": {},
     "output_type": "execute_result"
    }
   ],
   "source": [
    "#punto 2a: ora uso l'indice negativo sia per le righe sia per le colonne\n",
    "es1[-3,-3], es1[-3,-2], es1[-2,-5]"
   ]
  },
  {
   "cell_type": "markdown",
   "metadata": {},
   "source": [
    "Selezionare:\n",
    " * il primo elemento della seconda riga\n",
    " * il quinto elemento della prima riga\n",
    " * il secondo elemento della seconda colonna\n",
    " * il quarto elemento della terza colonna"
   ]
  },
  {
   "cell_type": "code",
   "execution_count": 9,
   "metadata": {},
   "outputs": [
    {
     "data": {
      "text/plain": [
       "(3, 7, 5)"
      ]
     },
     "execution_count": 9,
     "metadata": {},
     "output_type": "execute_result"
    }
   ],
   "source": [
    "#punto 1, 2, 3\n",
    "es1[1,0],es1[0,4], es1[1,1]\n",
    "#punto 4\n",
    "#non esiste questo elemento"
   ]
  },
  {
   "cell_type": "markdown",
   "metadata": {},
   "source": [
    " * Sommare 10 all’elemento es1[0,0]\n",
    " * Sottrarre 5 all’elemento es1[3,2]\n",
    " * Sommare l’elemento es1[0,0] all’elemento es1[1,0] e il risultato metterlo in es1[2,0]"
   ]
  },
  {
   "cell_type": "code",
   "execution_count": 13,
   "metadata": {},
   "outputs": [
    {
     "name": "stdout",
     "output_type": "stream",
     "text": [
      "15\n"
     ]
    }
   ],
   "source": [
    "#punto 1\n",
    "print(es1[0,0]+10)"
   ]
  },
  {
   "cell_type": "code",
   "execution_count": 14,
   "metadata": {},
   "outputs": [
    {
     "name": "stdout",
     "output_type": "stream",
     "text": [
      "3\n"
     ]
    }
   ],
   "source": [
    "#punto 2 (l'esercizio ha un errore, es1[3,2] non esiste, uso es1[2,2])\n",
    "print(es1[2,2]-5)"
   ]
  },
  {
   "cell_type": "code",
   "execution_count": 15,
   "metadata": {},
   "outputs": [
    {
     "name": "stdout",
     "output_type": "stream",
     "text": [
      "valore di a: 8\n"
     ]
    }
   ],
   "source": [
    "#punto 3a: uso una variabile per il risultato intermedio\n",
    "a= es1[0,0]+es1[1,0]\n",
    "print(\"valore di a:\", a)"
   ]
  },
  {
   "cell_type": "code",
   "execution_count": 16,
   "metadata": {},
   "outputs": [
    {
     "name": "stdout",
     "output_type": "stream",
     "text": [
      "valore di es1[2,0] prima della sovrascrittura: 6\n",
      "valore di es1[2,0] dopo la sovrascrittura: 8\n"
     ]
    }
   ],
   "source": [
    "print(\"valore di es1[2,0] prima della sovrascrittura:\", es1[2,0])\n",
    "es1[2,0]=a\n",
    "print(\"valore di es1[2,0] dopo la sovrascrittura:\", es1[2,0])"
   ]
  },
  {
   "cell_type": "code",
   "execution_count": 17,
   "metadata": {},
   "outputs": [
    {
     "name": "stdout",
     "output_type": "stream",
     "text": [
      "valore di es1[2,1] prima della sovrascrittura: 8\n",
      "valore di es1[2,1] dopo la sovrascrittura: 5\n"
     ]
    }
   ],
   "source": [
    "#punto 3b: stessa operazione ma senza usare una variabile per il risultato intermedio\n",
    "# per i valori, prendo quelli della seconsa colonna\n",
    "print(\"valore di es1[2,1] prima della sovrascrittura:\", es1[2,1])\n",
    "es1[2,1]= es1[0,1]+es1[1,1]\n",
    "print(\"valore di es1[2,1] dopo la sovrascrittura:\", es1[2,1])"
   ]
  },
  {
   "cell_type": "code",
   "execution_count": null,
   "metadata": {},
   "outputs": [],
   "source": []
  }
 ],
 "metadata": {
  "anaconda-cloud": {},
  "kernelspec": {
   "display_name": "Python 3",
   "language": "python",
   "name": "python3"
  },
  "language_info": {
   "codemirror_mode": {
    "name": "ipython",
    "version": 3
   },
   "file_extension": ".py",
   "mimetype": "text/x-python",
   "name": "python",
   "nbconvert_exporter": "python",
   "pygments_lexer": "ipython3",
   "version": "3.8.3"
  }
 },
 "nbformat": 4,
 "nbformat_minor": 4
}
