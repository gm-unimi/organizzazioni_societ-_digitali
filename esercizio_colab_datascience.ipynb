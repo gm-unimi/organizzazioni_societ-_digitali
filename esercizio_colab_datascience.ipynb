{
  "nbformat": 4,
  "nbformat_minor": 0,
  "metadata": {
    "colab": {
      "name": "Un benvenuto a Colaboratory",
      "provenance": [],
      "collapsed_sections": []
    },
    "kernelspec": {
      "display_name": "Python 3",
      "name": "python3"
    }
  },
  "cells": [
    {
      "cell_type": "markdown",
      "metadata": {
        "id": "5fCEDCU_qrC0"
      },
      "source": [
        "<p><img alt=\"Colaboratory logo\" height=\"45px\" src=\"/img/colab_favicon.ico\" align=\"left\" hspace=\"10px\" vspace=\"0px\"></p>\n",
        "\n",
        "<h1>Cos'è Colaboratory?</h1>\n",
        "\n",
        "Colaboratory o, in breve, \"Colab\" ti permette di scrivere ed eseguire codice Python nel tuo browser con i seguenti vantaggi:\n",
        "- Nessuna configurazione necessaria\n",
        "- Accesso gratuito alle GPU\n",
        "- Condivisione semplificata\n",
        "\n",
        "Che tu sia <strong>studente</strong>, <strong>data scientist</strong> o <strong>ricercatore AI</strong>, Colab può semplificarti il lavoro. Guarda <a href=\"https://www.youtube.com/watch?v=inN8seMm7UI\">questo video introduttivo su Colab</a> per ulteriori informazioni oppure inizia qui sotto."
      ]
    },
    {
      "cell_type": "markdown",
      "metadata": {
        "id": "GJBs_flRovLc"
      },
      "source": [
        "## <strong>Introduzione</strong>\n",
        "\n",
        "Il documento che stai leggendo non è una pagina web statica, ma un ambiente interattivo chiamato <strong>blocco note Colab</strong> che ti permette di scrivere ed eseguire codice.\n",
        "\n",
        "Ad esempio, qui vediamo una <strong>cella di codice</strong> con un breve script Python che calcola un valore, lo archivia in una variabile e stampa i risultati:"
      ]
    },
    {
      "cell_type": "code",
      "metadata": {
        "id": "gJr_9dXGpJ05",
        "outputId": "9f556d03-ec67-4950-a485-cfdba9ddd14d",
        "colab": {
          "base_uri": "https://localhost:8080/",
          "height": 34
        }
      },
      "source": [
        "seconds_in_a_day = 24 * 60 * 60\n",
        "seconds_in_a_day"
      ],
      "execution_count": null,
      "outputs": [
        {
          "output_type": "execute_result",
          "data": {
            "text/plain": [
              "86400"
            ]
          },
          "metadata": {
            "tags": []
          },
          "execution_count": 0
        }
      ]
    },
    {
      "cell_type": "markdown",
      "metadata": {
        "id": "2fhs6GZ4qFMx"
      },
      "source": [
        "Per eseguire il codice nella cella sopra, selezionala con un clic e poi premi il pulsante Riproduci a sinistra del codice o usa la scorciatoia da tastiera \"Comando/Ctrl+Invio\". Per modificare il codice, fai clic sulla cella e inizia a modificare.\n",
        "\n",
        "Le variabili che definisci in una cella possono essere usate in seguito in altre celle:"
      ]
    },
    {
      "cell_type": "code",
      "metadata": {
        "id": "-gE-Ez1qtyIA",
        "outputId": "94cb2224-0edf-457b-90b5-0ac3488d8a97",
        "colab": {
          "base_uri": "https://localhost:8080/",
          "height": 34
        }
      },
      "source": [
        "seconds_in_a_week = 7 * seconds_in_a_day\n",
        "seconds_in_a_week"
      ],
      "execution_count": null,
      "outputs": [
        {
          "output_type": "execute_result",
          "data": {
            "text/plain": [
              "604800"
            ]
          },
          "metadata": {
            "tags": []
          },
          "execution_count": 0
        }
      ]
    },
    {
      "cell_type": "markdown",
      "metadata": {
        "id": "lSrWNr3MuFUS"
      },
      "source": [
        "I blocchi note Colab ti permettono di combinare <strong>codice eseguibile</strong> e <strong>RTF</strong> in un unico documento, insieme a <strong>immagini</strong>, <strong>HTML</strong>, <strong>LaTeX</strong> e altro ancora. Quando crei dei blocchi note Colab, questi vengono archiviati nel tuo account Google Drive. Puoi condividere facilmente i blocchi note Colab con collaboratori o amici e dare loro la possibilità di commentare o modificare. Leggi ulteriori informazioni in <a href=\"/notebooks/basic_features_overview.ipynb\">Panoramica di Colab</a>. Per creare un nuovo blocco note Colab, puoi usare il menu File qui sopra o questo link: <a href=\"http://colab.research.google.com#create=true\">crea un nuovo blocco note Colab</a>.\n",
        "\n",
        "I blocchi note Colab sono blocchi note Jupyter ospitati da Colab. Per ulteriori informazioni sul progetto Jupyter, visita <a href=\"https://www.jupyter.org\">jupyter.org</a>."
      ]
    },
    {
      "cell_type": "markdown",
      "metadata": {
        "id": "UdRyKR44dcNI"
      },
      "source": [
        "## Data science\n",
        "\n",
        "Con Colab puoi sfruttare tutta la potenza delle librerie Python per analizzare e visualizzare i dati. La seguente cella di codice usa <strong>numpy</strong> per generare alcuni dati casuali e usa <strong>matplotlib</strong> per visualizzarli. Per modificare il codice, fai clic sulla cella e inizia a modificare."
      ]
    },
    {
      "cell_type": "code",
      "metadata": {
        "id": "C4HZx7Gndbrh",
        "outputId": "0a793a49-b828-4dfa-a8de-c8a81e62efee",
        "colab": {
          "base_uri": "https://localhost:8080/",
          "height": 281
        }
      },
      "source": [
        "import numpy as np\n",
        "from matplotlib import pyplot as plt\n",
        "\n",
        "ys = 200 + np.random.randn(100)\n",
        "x = [x for x in range(len(ys))]\n",
        "\n",
        "\n",
        "plt.plot(x, ys, '-')\n",
        "plt.fill_between(x, ys, 195, where=(ys > 195), facecolor='g', alpha=0.6)\n",
        "plt.title(\"Sample Visualisation\")\n",
        "plt.show()\n"
      ],
      "execution_count": 13,
      "outputs": [
        {
          "output_type": "display_data",
          "data": {
            "image/png": "[encoded data removed]",
            "text/plain": [
              "<Figure size 432x288 with 1 Axes>"
            ]
          },
          "metadata": {
            "tags": [],
            "needs_background": "light"
          }
        }
      ]
    },
    {
      "cell_type": "code",
      "metadata": {
        "id": "rjBwv2BbHLMr"
      },
      "source": [
        ""
      ],
      "execution_count": null,
      "outputs": []
    },
    {
      "cell_type": "markdown",
      "metadata": {
        "id": "ZnQ57G2yHMhA"
      },
      "source": [
        "Prima cerco di capire il significato delle variabili \"ys\" e \"x\""
      ]
    },
    {
      "cell_type": "code",
      "metadata": {
        "id": "sZ03QY-ZHVes",
        "outputId": "0b83cac3-2f90-4537-fc87-115c2dde0921",
        "colab": {
          "base_uri": "https://localhost:8080/",
          "height": 394
        }
      },
      "source": [
        "print(\"ys=\",ys)\n",
        "print(\"x=\",x)"
      ],
      "execution_count": 4,
      "outputs": [
        {
          "output_type": "stream",
          "text": [
            "ys= [201.30897709 199.8325146  199.7802284  199.54376071 199.81408789\n",
            " 198.83315117 199.65567509 199.9107849  201.35798867 199.94082532\n",
            " 198.82160795 198.1382787  200.21376433 200.65412238 201.18260411\n",
            " 202.34214044 199.91198442 199.24215392 200.10116265 199.36982641\n",
            " 198.76422932 198.5926894  200.18937113 198.98697724 200.59522332\n",
            " 199.09011746 199.13234633 199.31802716 200.0704648  199.83524836\n",
            " 200.8769685  199.80532747 201.72029385 200.50650858 198.44349577\n",
            " 200.49031821 199.73125882 201.45194075 200.38012729 198.81127281\n",
            " 200.20263086 200.77346806 200.17988566 200.28219893 199.49983213\n",
            " 198.28229506 200.66933003 200.69997906 197.95888303 199.21071575\n",
            " 200.2265206  200.87132448 200.46477998 199.2992741  202.20537059\n",
            " 200.13157746 200.99078263 200.25716357 198.75738926 201.18016436\n",
            " 200.17153442 199.36660131 200.94281045 198.8699452  201.02906398\n",
            " 198.9185559  200.06378869 200.25515357 199.16718562 199.40875113\n",
            " 201.0073385  199.71549918 200.25271165 200.89964365 201.32556084\n",
            " 199.32256242 199.89588193 198.64266508 200.42138212 198.67205217\n",
            " 199.89087438 197.91166919 199.74061827 200.46430921 200.14817196\n",
            " 199.2237898  200.19257206 202.10835737 199.8740409  200.59305455\n",
            " 199.62850959 200.17472352 199.1435969  198.71765399 200.25090074\n",
            " 199.32545055 199.84840733 199.18290165 201.54463529 198.95622853]\n",
            "x= [0, 1, 2, 3, 4, 5, 6, 7, 8, 9, 10, 11, 12, 13, 14, 15, 16, 17, 18, 19, 20, 21, 22, 23, 24, 25, 26, 27, 28, 29, 30, 31, 32, 33, 34, 35, 36, 37, 38, 39, 40, 41, 42, 43, 44, 45, 46, 47, 48, 49, 50, 51, 52, 53, 54, 55, 56, 57, 58, 59, 60, 61, 62, 63, 64, 65, 66, 67, 68, 69, 70, 71, 72, 73, 74, 75, 76, 77, 78, 79, 80, 81, 82, 83, 84, 85, 86, 87, 88, 89, 90, 91, 92, 93, 94, 95, 96, 97, 98, 99]\n"
          ],
          "name": "stdout"
        }
      ]
    },
    {
      "cell_type": "markdown",
      "metadata": {
        "id": "cHFXJrTTHtIy"
      },
      "source": [
        "notiamo che:\n",
        "\n",
        "*   ys sono 100 valori attorno a 200. La differenza è generata da np.random.randn(100)\n",
        "*   dal manuale di NumPy, per la funzione random.randn leggo che: \"If positive int_like arguments are provided, randn generates an array of shape (d0, d1, ..., dn), filled with random floats sampled from a univariate “normal” (Gaussian) distribution of mean 0 and variance 1.\"\n",
        "questo quindi mi dice che: il parametro (100 nell'esempio) definisce la shape dell'array prodotto (nel nostro esempio quindi un array monodimensionale di 100 valori)\n",
        "\n",
        "\n",
        "*   i valori invece sono prodotti da una distribuzione gaussiana con media 0 e deviazione standard 1\n",
        "la variabile x invece contiene i valori interi da 1 a 99. Cercando il significato delle funzioni, len(ys) restituisce la lunghezza della variabile ys, quindi 100. range(x) invece produce la sequenza di valori da 0 a x-1, nel nostro caso, x sarà 100, quindi la sequenza è da 0 a 99.\n",
        "*   possiamo vedere i valori della distribuzione gaussiana prodotti da np.random.randn semplicemente visualizzando ys-200\n",
        "\n"
      ]
    },
    {
      "cell_type": "code",
      "metadata": {
        "id": "s_9oa9T3KKGm",
        "outputId": "9a284574-d602-4de7-9f78-b17df6305814",
        "colab": {
          "base_uri": "https://localhost:8080/",
          "height": 306
        }
      },
      "source": [
        "print(\"Sequenza di valori della distribuzione gaussiana:\", ys-200)"
      ],
      "execution_count": 5,
      "outputs": [
        {
          "output_type": "stream",
          "text": [
            "Sequenza di valori della distribuzione gaussiana: [ 1.30897709 -0.1674854  -0.2197716  -0.45623929 -0.18591211 -1.16684883\n",
            " -0.34432491 -0.0892151   1.35798867 -0.05917468 -1.17839205 -1.8617213\n",
            "  0.21376433  0.65412238  1.18260411  2.34214044 -0.08801558 -0.75784608\n",
            "  0.10116265 -0.63017359 -1.23577068 -1.4073106   0.18937113 -1.01302276\n",
            "  0.59522332 -0.90988254 -0.86765367 -0.68197284  0.0704648  -0.16475164\n",
            "  0.8769685  -0.19467253  1.72029385  0.50650858 -1.55650423  0.49031821\n",
            " -0.26874118  1.45194075  0.38012729 -1.18872719  0.20263086  0.77346806\n",
            "  0.17988566  0.28219893 -0.50016787 -1.71770494  0.66933003  0.69997906\n",
            " -2.04111697 -0.78928425  0.2265206   0.87132448  0.46477998 -0.7007259\n",
            "  2.20537059  0.13157746  0.99078263  0.25716357 -1.24261074  1.18016436\n",
            "  0.17153442 -0.63339869  0.94281045 -1.1300548   1.02906398 -1.0814441\n",
            "  0.06378869  0.25515357 -0.83281438 -0.59124887  1.0073385  -0.28450082\n",
            "  0.25271165  0.89964365  1.32556084 -0.67743758 -0.10411807 -1.35733492\n",
            "  0.42138212 -1.32794783 -0.10912562 -2.08833081 -0.25938173  0.46430921\n",
            "  0.14817196 -0.7762102   0.19257206  2.10835737 -0.1259591   0.59305455\n",
            " -0.37149041  0.17472352 -0.8564031  -1.28234601  0.25090074 -0.67454945\n",
            " -0.15159267 -0.81709835  1.54463529 -1.04377147]\n"
          ],
          "name": "stdout"
        }
      ]
    },
    {
      "cell_type": "markdown",
      "metadata": {
        "id": "XNLzh5M9KUe3"
      },
      "source": [
        "**SVOLGIMENTO ESERCIZIO:**\n"
      ]
    },
    {
      "cell_type": "markdown",
      "metadata": {
        "id": "poIUypLvKdbD"
      },
      "source": [
        "modificare lo script per avere solo 10 valori di x\n",
        "\n",
        "\n",
        "\n"
      ]
    },
    {
      "cell_type": "markdown",
      "metadata": {
        "id": "bMOZBsGrHLpt"
      },
      "source": [
        "(usiamo ys1 e x1 per conservare entrambe le versioni)"
      ]
    },
    {
      "cell_type": "code",
      "metadata": {
        "id": "HHPnOPdOLlcz",
        "outputId": "a44b1b0e-90de-47bd-b4f8-84960e4efd40",
        "colab": {
          "base_uri": "https://localhost:8080/",
          "height": 68
        }
      },
      "source": [
        "ys1=200+ np.random.randn(10)\n",
        "x1= [x1 for x1 in range(len(ys1))]\n",
        "print(\"ys1=\",ys1)\n",
        "print(\"x1=\",x1)"
      ],
      "execution_count": 7,
      "outputs": [
        {
          "output_type": "stream",
          "text": [
            "ys1= [201.10456349 202.19666665 200.40043837 199.83204628 199.59069087\n",
            " 199.67788217 199.78383308 201.57961816 199.91383884 200.88512192]\n",
            "x1= [0, 1, 2, 3, 4, 5, 6, 7, 8, 9]\n"
          ],
          "name": "stdout"
        }
      ]
    },
    {
      "cell_type": "markdown",
      "metadata": {
        "id": "5pbU-gxtLqN2"
      },
      "source": [
        "poi moltiplico per 10 la variazione casuale di ys"
      ]
    },
    {
      "cell_type": "code",
      "metadata": {
        "id": "XlWXTSBcMHZx",
        "outputId": "8c501f8c-e1a4-419e-a5ee-bdc1d07a4b5a",
        "colab": {
          "base_uri": "https://localhost:8080/",
          "height": 68
        }
      },
      "source": [
        "ys1= 200+ 10*np.random.randn(10)\n",
        "x1= [x1 for x1 in range(len(ys1))]\n",
        "print(\"ys1=\",ys1)\n",
        "print(\"x1=\",x1)"
      ],
      "execution_count": 8,
      "outputs": [
        {
          "output_type": "stream",
          "text": [
            "ys1= [197.75700893 199.91521366 195.46397279 199.47978799 203.60295186\n",
            " 205.90651533 193.30373703 192.52186513 213.76950368 195.6729169 ]\n",
            "x1= [0, 1, 2, 3, 4, 5, 6, 7, 8, 9]\n"
          ],
          "name": "stdout"
        }
      ]
    },
    {
      "cell_type": "markdown",
      "metadata": {
        "id": "W4Ahs0WKMT4t"
      },
      "source": [
        "poi vedo come viene con questi valori"
      ]
    },
    {
      "cell_type": "code",
      "metadata": {
        "id": "33j5SIfgMbqh",
        "outputId": "7dc26ba4-df24-4e37-ae6e-ee2ea0930415",
        "colab": {
          "base_uri": "https://localhost:8080/",
          "height": 281
        }
      },
      "source": [
        "plt.plot(x1, ys1, '-')\n",
        "plt.fill_between(x1, ys1, 195, where=(ys1 > 195), facecolor='purple', alpha=0.7)\n",
        "\n",
        "plt.title(\"Nuovo Grafico\")\n",
        "plt.show()"
      ],
      "execution_count": 11,
      "outputs": [
        {
          "output_type": "display_data",
          "data": {
            "image/png": "[encoded data removed]",
            "text/plain": [
              "<Figure size 432x288 with 1 Axes>"
            ]
          },
          "metadata": {
            "tags": [],
            "needs_background": "light"
          }
        }
      ]
    },
    {
      "cell_type": "markdown",
      "metadata": {
        "id": "GgyQKgTwNuPP"
      },
      "source": [
        "Il grafico prodotto ovviamente è cambiato. Il fill non è corretto perché ha ancora i valori riferiti ai valori del caso precedente che pativano da ys=195, mentre ora ys1 parte da valori minori.\n",
        "\n",
        "Provo a usare 185 al posto di 195"
      ]
    },
    {
      "cell_type": "code",
      "metadata": {
        "id": "s0iXcxRJNvuS",
        "outputId": "51a64dd2-94f5-4e62-fd94-ad76e104169f",
        "colab": {
          "base_uri": "https://localhost:8080/",
          "height": 281
        }
      },
      "source": [
        "plt.plot(x1, ys1, '-')\n",
        "plt.fill_between(x1, ys1, 185, where=(ys1 > 185), facecolor='purple', alpha=0.7)\n",
        "\n",
        "plt.title(\"Nuovo Grafico \")\n",
        "plt.show()"
      ],
      "execution_count": 12,
      "outputs": [
        {
          "output_type": "display_data",
          "data": {
            "image/png": "[encoded data removed]",
            "text/plain": [
              "<Figure size 432x288 with 1 Axes>"
            ]
          },
          "metadata": {
            "tags": [],
            "needs_background": "light"
          }
        }
      ]
    },
    {
      "cell_type": "code",
      "metadata": {
        "id": "aKaoooXQLvFQ"
      },
      "source": [
        ""
      ],
      "execution_count": null,
      "outputs": []
    },
    {
      "cell_type": "markdown",
      "metadata": {
        "id": "BlkjME1SHKsA"
      },
      "source": [
        ""
      ]
    },
    {
      "cell_type": "markdown",
      "metadata": {
        "id": "4_kCnsPUqS6o"
      },
      "source": [
        "Puoi importare i tuoi dati nei blocchi note Colab dal tuo account Google Drive, inclusi i fogli di lavoro, da GitHub e molte altre fonti. Per ulteriori informazioni sull'importazione dei dati e sulle possibilità di utilizzo di Colab per la data science, vedi i link di seguito, sotto <a href=\"#working-with-data\">Utilizzo dei dati</a>."
      ]
    },
    {
      "cell_type": "markdown",
      "metadata": {
        "id": "OwuxHmxllTwN"
      },
      "source": [
        "## Machine learning\n",
        "\n",
        "Con Colab puoi importare un set di dati immagine, addestrare un classificatore di immagini e valutare il modello, il tutto in <a href=\"https://colab.research.google.com/github/tensorflow/docs/blob/master/site/en/tutorials/quickstart/beginner.ipynb\">poche righe di codice</a>. I blocchi note Colab eseguono il codice sui server cloud di Google, il che significa che puoi utilizzare la potenza dell'hardware Google, tra cui <a href=\"#using-accelerated-hardware\">GPU e TPU</a>, a prescindere dalla potenza della tua macchina. Ti serve solo un browser."
      ]
    },
    {
      "cell_type": "markdown",
      "metadata": {
        "id": "ufxBm1yRnruN"
      },
      "source": [
        "Colab è ampiamente utilizzato dalla community del machine learning con applicazioni che includono:\n",
        "- Introduzione a TensorFlow\n",
        "- Sviluppo e addestramento di reti neurali\n",
        "- Esperimenti con TPU\n",
        "- Diffusione della ricerca sull'AI\n",
        "- Creazione di tutorial\n",
        "\n",
        "Per vedere degli esempi di blocchi note Colab che dimostrano le applicazioni di machine learning, vedi i seguenti <a href=\"#machine-learning-examples\">esempi di machine learning</a>."
      ]
    },
    {
      "cell_type": "markdown",
      "metadata": {
        "id": "-Rh3-Vt9Nev9"
      },
      "source": [
        "## Altre risorse\n",
        "\n",
        "### Utilizzo dei blocchi note in Colab\n",
        "- [Panoramica di Colaboratory](/notebooks/basic_features_overview.ipynb)\n",
        "- [Guida a Markdown](/notebooks/markdown_guide.ipynb)\n",
        "- [Importazione di librerie e installazione di dipendenze](/notebooks/snippets/importing_libraries.ipynb)\n",
        "- [Salvataggio e caricamento dei blocchi note in GitHub](https://colab.research.google.com/github/googlecolab/colabtools/blob/master/notebooks/colab-github-demo.ipynb)\n",
        "- [Moduli interattivi](/notebooks/forms.ipynb)\n",
        "- [Widget interattivi](/notebooks/widgets.ipynb)\n",
        "- <img src=\"/img/new.png\" height=\"20px\" align=\"left\" hspace=\"4px\" alt=\"New\"></img>\n",
        " [TensorFlow 2 in Colab](/notebooks/tensorflow_version.ipynb)\n",
        "\n",
        "<a name=\"working-with-data\"></a>\n",
        "### Utilizzo dei dati\n",
        "- [Caricamento dei dati: Drive, Fogli e Google Cloud Storage](/notebooks/io.ipynb) \n",
        "- [Grafici: visualizzare i dati](/notebooks/charts.ipynb)\n",
        "- [Introduzione a BigQuery](/notebooks/bigquery.ipynb)\n",
        "\n",
        "### Machine Learning Crash Course\n",
        "Ecco alcuni dei blocchi note dal corso online sul machine learning di Google. Vedi il <a href=\"https://developers.google.com/machine-learning/crash-course/\">sito web del corso completo</a> per ulteriori informazioni.\n",
        "- [Introduzione a Pandas](/notebooks/mlcc/intro_to_pandas.ipynb)\n",
        "- [Concetti di TensorFlow](/notebooks/mlcc/tensorflow_programming_concepts.ipynb)\n",
        "- [Primi passi con TensorFlow](/notebooks/mlcc/first_steps_with_tensor_flow.ipynb)\n",
        "- [Introduzione alle reti neurali](/notebooks/mlcc/intro_to_neural_nets.ipynb)\n",
        "- [Introduzione a dati sparsi e rappresentazioni distribuite](/notebooks/mlcc/intro_to_sparse_data_and_embeddings.ipynb)\n",
        "\n",
        "<a name=\"using-accelerated-hardware\"></a>\n",
        "### Utilizzo di hardware accelerato\n",
        "- [TensorFlow con GPU](/notebooks/gpu.ipynb)\n",
        "- [TensorFlow con TPU](/notebooks/tpu.ipynb)"
      ]
    },
    {
      "cell_type": "markdown",
      "metadata": {
        "id": "P-H6Lw1vyNNd"
      },
      "source": [
        "<a name=\"machine-learning-examples\"></a>\n",
        "\n",
        "## Esempi di machine learning\n",
        "\n",
        "Per vedere esempi completi delle analisi di machine learning interattive che è possibile effettuare con Colaboratory, segui questi tutorial che usano modelli di <a href=\"https://tfhub.dev\">TensorFlow Hub</a>.\n",
        "\n",
        "Alcuni esempi in primo piano:\n",
        "\n",
        "- <a href=\"https://tensorflow.org/hub/tutorials/tf2_image_retraining\">Riaddestramento di un classificatore di immagini</a>: crea un modello Keras utilizzando un classificatore di immagini preaddestrato per distinguere i fiori.\n",
        "- <a href=\"https://tensorflow.org/hub/tutorials/tf2_text_classification\">Classificazione del testo</a>: classifica le recensioni dei film IMDB come <em>positive</em> o <em>negative</em>.\n",
        "- <a href=\"https://tensorflow.org/hub/tutorials/tf2_arbitrary_image_stylization\">Trasferimento dello stile</a>: usa il deep learning per trasferire lo stile da un'immagine all'altra.\n",
        "- <a href=\"https://tensorflow.org/hub/tutorials/retrieval_with_tf_hub_universal_encoder_qa\">Multilingual Universal Sentence Encoder Q&amp;A</a>: usa un modello di machine learning per rispondere alle domande del set di dati SQuAD.\n",
        "- <a href=\"https://tensorflow.org/hub/tutorials/tweening_conv3d\">Interpolazione video</a>: prevedi gli eventi di un video tra il primo e l'ultimo frame.\n"
      ]
    }
  ]
}