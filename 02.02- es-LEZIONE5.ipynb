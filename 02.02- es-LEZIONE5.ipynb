{
 "cells": [
  {
   "cell_type": "markdown",
   "metadata": {},
   "source": [
    "## Array Slicing: Accessing Subarrays\n",
    "# One-dimensional subarrays"
   ]
  },
  {
   "cell_type": "code",
   "execution_count": 2,
   "metadata": {},
   "outputs": [
    {
     "data": {
      "text/plain": [
       "array([0, 1, 2, 3, 4, 5, 6, 7, 8, 9])"
      ]
     },
     "execution_count": 2,
     "metadata": {},
     "output_type": "execute_result"
    }
   ],
   "source": [
    "import numpy as np\n",
    "\n",
    "x= np.arange (10)\n",
    "x"
   ]
  },
  {
   "cell_type": "code",
   "execution_count": 4,
   "metadata": {},
   "outputs": [
    {
     "data": {
      "text/plain": [
       "array([0, 1, 2, 3, 4])"
      ]
     },
     "execution_count": 4,
     "metadata": {},
     "output_type": "execute_result"
    }
   ],
   "source": [
    "x[:5] #seleziono i primi 5 elementi"
   ]
  },
  {
   "cell_type": "code",
   "execution_count": 5,
   "metadata": {},
   "outputs": [
    {
     "data": {
      "text/plain": [
       "array([5, 6, 7, 8, 9])"
      ]
     },
     "execution_count": 5,
     "metadata": {},
     "output_type": "execute_result"
    }
   ],
   "source": [
    "x[5:] #seleziono gli elementi dopo il 5"
   ]
  },
  {
   "cell_type": "code",
   "execution_count": 6,
   "metadata": {},
   "outputs": [
    {
     "data": {
      "text/plain": [
       "array([4, 5, 6])"
      ]
     },
     "execution_count": 6,
     "metadata": {},
     "output_type": "execute_result"
    }
   ],
   "source": [
    "x[4:7] #seleziono gli elementi che stanno tra 4 e 7 (sub-array centrale)"
   ]
  },
  {
   "cell_type": "code",
   "execution_count": 7,
   "metadata": {},
   "outputs": [
    {
     "data": {
      "text/plain": [
       "array([0, 2, 4, 6, 8])"
      ]
     },
     "execution_count": 7,
     "metadata": {},
     "output_type": "execute_result"
    }
   ],
   "source": [
    "x[::2] #ogni altro elemento"
   ]
  },
  {
   "cell_type": "code",
   "execution_count": 8,
   "metadata": {},
   "outputs": [
    {
     "data": {
      "text/plain": [
       "array([1, 3, 5, 7, 9])"
      ]
     },
     "execution_count": 8,
     "metadata": {},
     "output_type": "execute_result"
    }
   ],
   "source": [
    "x[1::2] #ogni altro elemento a partire dall'indice 1"
   ]
  },
  {
   "cell_type": "markdown",
   "metadata": {},
   "source": [
    "il segno meno INVERTE i valori"
   ]
  },
  {
   "cell_type": "code",
   "execution_count": 9,
   "metadata": {},
   "outputs": [
    {
     "data": {
      "text/plain": [
       "array([9, 8, 7, 6, 5, 4, 3, 2, 1, 0])"
      ]
     },
     "execution_count": 9,
     "metadata": {},
     "output_type": "execute_result"
    }
   ],
   "source": [
    "x[::-1] #tutti gli elementi invertiti"
   ]
  },
  {
   "cell_type": "code",
   "execution_count": 10,
   "metadata": {},
   "outputs": [
    {
     "data": {
      "text/plain": [
       "array([5, 3, 1])"
      ]
     },
     "execution_count": 10,
     "metadata": {},
     "output_type": "execute_result"
    }
   ],
   "source": [
    "x[5:: - 2] #inverto a  vicenda dall'indice 5"
   ]
  },
  {
   "cell_type": "markdown",
   "metadata": {},
   "source": [
    "## ESERCIZIO "
   ]
  },
  {
   "cell_type": "markdown",
   "metadata": {},
   "source": [
    "* Cambiare l’array creandone uno sempre di 10 valori ma che parta da 5 fino a\n",
    "15 (incluso o escluso?)"
   ]
  },
  {
   "cell_type": "code",
   "execution_count": 13,
   "metadata": {},
   "outputs": [
    {
     "data": {
      "text/plain": [
       "array([ 5,  6,  7,  8,  9, 10, 11, 12, 13, 14, 15])"
      ]
     },
     "execution_count": 13,
     "metadata": {},
     "output_type": "execute_result"
    }
   ],
   "source": [
    "import numpy as np\n",
    "\n",
    "es1= np.arange(5,16)\n",
    "es1"
   ]
  },
  {
   "cell_type": "markdown",
   "metadata": {},
   "source": [
    "Rifare gli esempi delle celle modificati come:\n",
    "1. primi sei valori\n",
    "2. elementi dopo l’indice 3\n",
    "3. elementi dopo il terzo elemento\n",
    "4. subarray con valori 8,9,10,11,12\n",
    "5. un elemento ogni tre, partendo dal primo\n",
    "6. un elemento ogni tre partendo dal terzo elemento"
   ]
  },
  {
   "cell_type": "code",
   "execution_count": 15,
   "metadata": {},
   "outputs": [
    {
     "data": {
      "text/plain": [
       "array([ 5,  6,  7,  8,  9, 10])"
      ]
     },
     "execution_count": 15,
     "metadata": {},
     "output_type": "execute_result"
    }
   ],
   "source": [
    "#punto1\n",
    "es1[:6]"
   ]
  },
  {
   "cell_type": "code",
   "execution_count": 28,
   "metadata": {},
   "outputs": [
    {
     "name": "stdout",
     "output_type": "stream",
     "text": [
      "elementi dopo l'indice 3: 8\n",
      "elementi dopo quelli di indice 3: [ 9 10 11 12 13 14 15]\n"
     ]
    }
   ],
   "source": [
    "#punto2\n",
    "print(\"elementi dopo l'indice 3:\", es1[3])\n",
    "print(\"elementi dopo quelli di indice 3:\" , es1[4:])"
   ]
  },
  {
   "cell_type": "code",
   "execution_count": 30,
   "metadata": {},
   "outputs": [
    {
     "data": {
      "text/plain": [
       "array([ 8,  9, 10, 11, 12, 13, 14, 15])"
      ]
     },
     "execution_count": 30,
     "metadata": {},
     "output_type": "execute_result"
    }
   ],
   "source": [
    "#punto3\n",
    "es1[3:]"
   ]
  },
  {
   "cell_type": "code",
   "execution_count": 32,
   "metadata": {},
   "outputs": [
    {
     "data": {
      "text/plain": [
       "array([ 8,  9, 10, 11, 12])"
      ]
     },
     "execution_count": 32,
     "metadata": {},
     "output_type": "execute_result"
    }
   ],
   "source": [
    "#punto4\n",
    "es1[3:8]"
   ]
  },
  {
   "cell_type": "code",
   "execution_count": 33,
   "metadata": {},
   "outputs": [
    {
     "data": {
      "text/plain": [
       "array([ 5,  8, 11, 14])"
      ]
     },
     "execution_count": 33,
     "metadata": {},
     "output_type": "execute_result"
    }
   ],
   "source": [
    "#punto5\n",
    "es1[::3]"
   ]
  },
  {
   "cell_type": "code",
   "execution_count": 35,
   "metadata": {},
   "outputs": [
    {
     "data": {
      "text/plain": [
       "array([ 6,  9, 12, 15])"
      ]
     },
     "execution_count": 35,
     "metadata": {},
     "output_type": "execute_result"
    }
   ],
   "source": [
    "#punto6\n",
    "es1[1::3]"
   ]
  },
  {
   "cell_type": "markdown",
   "metadata": {},
   "source": [
    "## Array Slicing: Accessing Subarrays"
   ]
  },
  {
   "cell_type": "markdown",
   "metadata": {},
   "source": [
    "### Multi-dimensional subarrays\n",
    "\n",
    "Multi-dimensional slices work in the same way, with multiple slices separated by commas.\n",
    "For example:"
   ]
  },
  {
   "cell_type": "code",
   "execution_count": 24,
   "metadata": {
    "collapsed": false,
    "jupyter": {
     "outputs_hidden": false
    }
   },
   "outputs": [
    {
     "data": {
      "text/plain": [
       "array([[12,  5,  2,  4],\n",
       "       [ 7,  6,  8,  8],\n",
       "       [ 1,  6,  7,  7]])"
      ]
     },
     "execution_count": 24,
     "metadata": {},
     "output_type": "execute_result"
    }
   ],
   "source": [
    "x2"
   ]
  },
  {
   "cell_type": "code",
   "execution_count": 25,
   "metadata": {
    "collapsed": false,
    "jupyter": {
     "outputs_hidden": false
    }
   },
   "outputs": [
    {
     "data": {
      "text/plain": [
       "array([[12,  5,  2],\n",
       "       [ 7,  6,  8]])"
      ]
     },
     "execution_count": 25,
     "metadata": {},
     "output_type": "execute_result"
    }
   ],
   "source": [
    "x2[:2, :3]  # two rows, three columns"
   ]
  },
  {
   "cell_type": "code",
   "execution_count": 26,
   "metadata": {
    "collapsed": false,
    "jupyter": {
     "outputs_hidden": false
    }
   },
   "outputs": [
    {
     "data": {
      "text/plain": [
       "array([[12,  2],\n",
       "       [ 7,  8],\n",
       "       [ 1,  7]])"
      ]
     },
     "execution_count": 26,
     "metadata": {},
     "output_type": "execute_result"
    }
   ],
   "source": [
    "x2[:3, ::2]  # all rows, every other column"
   ]
  },
  {
   "cell_type": "markdown",
   "metadata": {},
   "source": [
    "Finally, subarray dimensions can even be reversed together:"
   ]
  },
  {
   "cell_type": "code",
   "execution_count": 27,
   "metadata": {
    "collapsed": false,
    "jupyter": {
     "outputs_hidden": false
    }
   },
   "outputs": [
    {
     "data": {
      "text/plain": [
       "array([[ 7,  7,  6,  1],\n",
       "       [ 8,  8,  6,  7],\n",
       "       [ 4,  2,  5, 12]])"
      ]
     },
     "execution_count": 27,
     "metadata": {},
     "output_type": "execute_result"
    }
   ],
   "source": [
    "x2[::-1, ::-1]"
   ]
  },
  {
   "cell_type": "markdown",
   "metadata": {},
   "source": [
    "#### Accessing array rows and columns\n",
    "\n",
    "One commonly needed routine is accessing of single rows or columns of an array.\n",
    "This can be done by combining indexing and slicing, using an empty slice marked by a single colon (``:``):"
   ]
  },
  {
   "cell_type": "code",
   "execution_count": 28,
   "metadata": {
    "collapsed": false,
    "jupyter": {
     "outputs_hidden": false
    }
   },
   "outputs": [
    {
     "name": "stdout",
     "output_type": "stream",
     "text": [
      "[12  7  1]\n"
     ]
    }
   ],
   "source": [
    "print(x2[:, 0])  # first column of x2"
   ]
  },
  {
   "cell_type": "code",
   "execution_count": 29,
   "metadata": {
    "collapsed": false,
    "jupyter": {
     "outputs_hidden": false
    }
   },
   "outputs": [
    {
     "name": "stdout",
     "output_type": "stream",
     "text": [
      "[12  5  2  4]\n"
     ]
    }
   ],
   "source": [
    "print(x2[0, :])  # first row of x2"
   ]
  },
  {
   "cell_type": "markdown",
   "metadata": {},
   "source": [
    "In the case of row access, the empty slice can be omitted for a more compact syntax:"
   ]
  },
  {
   "cell_type": "code",
   "execution_count": 30,
   "metadata": {
    "collapsed": false,
    "jupyter": {
     "outputs_hidden": false
    }
   },
   "outputs": [
    {
     "name": "stdout",
     "output_type": "stream",
     "text": [
      "[12  5  2  4]\n"
     ]
    }
   ],
   "source": [
    "print(x2[0])  # equivalent to x2[0, :]"
   ]
  },
  {
   "cell_type": "markdown",
   "metadata": {},
   "source": [
    "# ESERCIZIO1"
   ]
  },
  {
   "cell_type": "code",
   "execution_count": 38,
   "metadata": {},
   "outputs": [
    {
     "data": {
      "text/plain": [
       "array([[12, 15,  5,  0,  3, 11],\n",
       "       [ 3,  7,  9,  3,  5,  2],\n",
       "       [ 4,  7,  6,  8,  8, 12],\n",
       "       [10,  1,  6,  7,  7, 14]])"
      ]
     },
     "execution_count": 38,
     "metadata": {},
     "output_type": "execute_result"
    }
   ],
   "source": [
    "import numpy as np\n",
    "np.random.seed(0)   #serve per la riproducibilità\n",
    "#Creare un array es2a di valori casuali interi (randint) di dimensione 4x6, con valore massimo (incluso) uguale a 15.\n",
    "es2a= np.random.randint(16, size=(4, 6))\n",
    "es2a\n"
   ]
  },
  {
   "cell_type": "markdown",
   "metadata": {},
   "source": [
    "* da svolgere\n",
    "1. prime tre righe, prime tre colonne\n",
    "2. seconda e terza riga, quarta, quinta e sesta colonna\n",
    "3. elementi dopo il terzo elemento (elementi dopo la terza riga e la terza colonna)\n",
    "4. invertire l’ordine delle sole righe; invertire l’ordine delle sole colonne"
   ]
  },
  {
   "cell_type": "code",
   "execution_count": 39,
   "metadata": {},
   "outputs": [
    {
     "data": {
      "text/plain": [
       "array([[12, 15,  5,  0,  3, 11],\n",
       "       [ 3,  7,  9,  3,  5,  2],\n",
       "       [ 4,  7,  6,  8,  8, 12],\n",
       "       [10,  1,  6,  7,  7, 14]])"
      ]
     },
     "execution_count": 39,
     "metadata": {},
     "output_type": "execute_result"
    }
   ],
   "source": [
    "#punto1\n",
    "es2a[:,:]"
   ]
  },
  {
   "cell_type": "code",
   "execution_count": 41,
   "metadata": {},
   "outputs": [
    {
     "data": {
      "text/plain": [
       "array([[12, 15,  5],\n",
       "       [ 3,  7,  9],\n",
       "       [ 4,  7,  6]])"
      ]
     },
     "execution_count": 41,
     "metadata": {},
     "output_type": "execute_result"
    }
   ],
   "source": [
    "#punto1 \n",
    "es2a[:3,:3]"
   ]
  },
  {
   "cell_type": "code",
   "execution_count": 47,
   "metadata": {},
   "outputs": [
    {
     "data": {
      "text/plain": [
       "array([[ 3,  5,  2],\n",
       "       [ 8,  8, 12]])"
      ]
     },
     "execution_count": 47,
     "metadata": {},
     "output_type": "execute_result"
    }
   ],
   "source": [
    "#punto2 selezionare seconda e terza riga (con l'1 davanti ai due punti stiamo escludendo la prima riga), \n",
    "#selezionare la quarta,quinta,sesta colonna (metto 3 perchè la quarta colonna è inclusa)\n",
    "es2a[1:3,3:6]\n"
   ]
  },
  {
   "cell_type": "code",
   "execution_count": 48,
   "metadata": {},
   "outputs": [
    {
     "data": {
      "text/plain": [
       "array([[ 7,  7, 14]])"
      ]
     },
     "execution_count": 48,
     "metadata": {},
     "output_type": "execute_result"
    }
   ],
   "source": [
    "#punto3\n",
    "es2a[3:,3:]"
   ]
  },
  {
   "cell_type": "code",
   "execution_count": 49,
   "metadata": {},
   "outputs": [
    {
     "name": "stdout",
     "output_type": "stream",
     "text": [
      "array non invertito: \n",
      " [[12 15  5  0  3 11]\n",
      " [ 3  7  9  3  5  2]\n",
      " [ 4  7  6  8  8 12]\n",
      " [10  1  6  7  7 14]] \n",
      "\n"
     ]
    }
   ],
   "source": [
    "#punto4 (utilizzo \"\\n\" per ordinare la tabella senò mi verrebbe attaccato)\n",
    "print(\"array non invertito: \\n\",es2a, \"\\n\")"
   ]
  },
  {
   "cell_type": "code",
   "execution_count": 53,
   "metadata": {},
   "outputs": [
    {
     "name": "stdout",
     "output_type": "stream",
     "text": [
      "array inverto solo le righe: \n",
      " [[10  1  6  7  7 14]\n",
      " [ 4  7  6  8  8 12]\n",
      " [ 3  7  9  3  5  2]\n",
      " [12 15  5  0  3 11]] \n",
      "\n"
     ]
    }
   ],
   "source": [
    "#punto4 inverto solo le righe\n",
    "print(\"array inverto solo le righe: \\n\", es2a[::-1,:], \"\\n\")"
   ]
  },
  {
   "cell_type": "code",
   "execution_count": 55,
   "metadata": {},
   "outputs": [
    {
     "name": "stdout",
     "output_type": "stream",
     "text": [
      "array inverto solo le colonne: \n",
      " [[11  3  0  5 15 12]\n",
      " [ 2  5  3  9  7  3]\n",
      " [12  8  8  6  7  4]\n",
      " [14  7  7  6  1 10]] \n",
      "\n"
     ]
    }
   ],
   "source": [
    "#punto4 inverto solo le colonne\n",
    "print(\"array inverto solo le colonne: \\n\", es2a[:,::-1], \"\\n\")"
   ]
  },
  {
   "cell_type": "markdown",
   "metadata": {},
   "source": [
    "## ESERCIZIO 2 \n",
    "Creare un array es2b di valori casuali interi (randint) composto da 2 subarray di dimensione 5x5,con valore massimo (incluso) uguale a 30."
   ]
  },
  {
   "cell_type": "code",
   "execution_count": 58,
   "metadata": {},
   "outputs": [
    {
     "data": {
      "text/plain": [
       "array([[[12, 15, 21,  0,  3],\n",
       "        [27,  3,  7,  9, 19],\n",
       "        [21, 18,  4, 23,  6],\n",
       "        [24, 24, 12, 26,  1],\n",
       "        [ 6,  7, 23, 14, 24]],\n",
       "\n",
       "       [[17,  5, 25, 13,  8],\n",
       "        [ 9, 20, 19, 16, 19],\n",
       "        [ 5, 30, 15, 15,  0],\n",
       "        [18,  3, 24, 17, 19],\n",
       "        [29, 19, 19, 14,  7]]])"
      ]
     },
     "execution_count": 58,
     "metadata": {},
     "output_type": "execute_result"
    }
   ],
   "source": [
    "import numpy as np\n",
    "np.random.seed(0)\n",
    "\n",
    "es2b= np.random.randint(31, size=(2,5,5))\n",
    "es2b"
   ]
  },
  {
   "cell_type": "markdown",
   "metadata": {},
   "source": [
    "1. selezionare il primo subarray, da quello le prime 2 righe e le colonne dalla seconda alla quarta"
   ]
  },
  {
   "cell_type": "code",
   "execution_count": 61,
   "metadata": {},
   "outputs": [
    {
     "data": {
      "text/plain": [
       "array([[[12, 15, 21,  0,  3],\n",
       "        [27,  3,  7,  9, 19],\n",
       "        [21, 18,  4, 23,  6],\n",
       "        [24, 24, 12, 26,  1],\n",
       "        [ 6,  7, 23, 14, 24]],\n",
       "\n",
       "       [[17,  5, 25, 13,  8],\n",
       "        [ 9, 20, 19, 16, 19],\n",
       "        [ 5, 30, 15, 15,  0],\n",
       "        [18,  3, 24, 17, 19],\n",
       "        [29, 19, 19, 14,  7]]])"
      ]
     },
     "execution_count": 61,
     "metadata": {},
     "output_type": "execute_result"
    }
   ],
   "source": [
    "#punto1  per capire il meccanismo (il primo : indica il subarrey, il secondo: indica le righe, il terzo: le colonne)\n",
    "es2b[:,:,:]"
   ]
  },
  {
   "cell_type": "code",
   "execution_count": 67,
   "metadata": {},
   "outputs": [
    {
     "data": {
      "text/plain": [
       "array([[[15, 21,  0],\n",
       "        [ 3,  7,  9]]])"
      ]
     },
     "execution_count": 67,
     "metadata": {},
     "output_type": "execute_result"
    }
   ],
   "source": [
    "#punto1 (sarebbe es2b 0:1,0:2,1:4)\n",
    "es2b[:1,:2,1:4]"
   ]
  },
  {
   "cell_type": "markdown",
   "metadata": {},
   "source": [
    "2. selezionare da entrambi i subarray le prime due righe e prime due colonne e\n",
    "invertire righe e colonne"
   ]
  },
  {
   "cell_type": "code",
   "execution_count": 85,
   "metadata": {},
   "outputs": [
    {
     "data": {
      "text/plain": [
       "array([[[12, 15],\n",
       "        [27,  3]],\n",
       "\n",
       "       [[17,  5],\n",
       "        [ 9, 20]]])"
      ]
     },
     "execution_count": 85,
     "metadata": {},
     "output_type": "execute_result"
    }
   ],
   "source": [
    "#punto2 #selezionato di entrambi i subarray le prime due righe e lle prime due colonne\n",
    "#salvo nella variabile a per rendere più semplici i passaggi\n",
    "a= es2b[:,:2,:2,]\n",
    "a"
   ]
  },
  {
   "cell_type": "code",
   "execution_count": 86,
   "metadata": {},
   "outputs": [
    {
     "name": "stdout",
     "output_type": "stream",
     "text": [
      "subarray 2x2 non invertito \n",
      " [[[12 15]\n",
      "  [27  3]]\n",
      "\n",
      " [[17  5]\n",
      "  [ 9 20]]] \n",
      "\n"
     ]
    }
   ],
   "source": [
    "#punto 2 invertire righe e colonne\n",
    "print(\"subarray 2x2 non invertito \\n\",a, \"\\n\")"
   ]
  },
  {
   "cell_type": "code",
   "execution_count": 87,
   "metadata": {},
   "outputs": [
    {
     "name": "stdout",
     "output_type": "stream",
     "text": [
      "inverto le righe: \n",
      " [[[27  3]\n",
      "  [12 15]]\n",
      "\n",
      " [[ 9 20]\n",
      "  [17  5]]] \n",
      "\n"
     ]
    }
   ],
   "source": [
    "#inverto le righe\n",
    "print(\"inverto le righe: \\n\",a[:,::-1,:], \"\\n\")"
   ]
  },
  {
   "cell_type": "code",
   "execution_count": 89,
   "metadata": {},
   "outputs": [
    {
     "name": "stdout",
     "output_type": "stream",
     "text": [
      "inverto le colonne: \n",
      " [[[15 12]\n",
      "  [ 3 27]]\n",
      "\n",
      " [[ 5 17]\n",
      "  [20  9]]] \n",
      "\n"
     ]
    }
   ],
   "source": [
    "#inverto le colonne\n",
    "print(\"inverto le colonne: \\n\", a[:,:,::-1],\"\\n\")"
   ]
  },
  {
   "cell_type": "code",
   "execution_count": 90,
   "metadata": {},
   "outputs": [
    {
     "name": "stdout",
     "output_type": "stream",
     "text": [
      "inverto sia le righe che le colonne: \n",
      " [[[ 3 27]\n",
      "  [15 12]]\n",
      "\n",
      " [[20  9]\n",
      "  [ 5 17]]] \n",
      "\n"
     ]
    }
   ],
   "source": [
    "#inverto sia le righe che le colonne\n",
    "print(\"inverto sia le righe che le colonne: \\n\", a[:,::-1,::-1], \"\\n\")"
   ]
  },
  {
   "cell_type": "code",
   "execution_count": null,
   "metadata": {},
   "outputs": [],
   "source": []
  }
 ],
 "metadata": {
  "anaconda-cloud": {},
  "kernelspec": {
   "display_name": "Python 3",
   "language": "python",
   "name": "python3"
  },
  "language_info": {
   "codemirror_mode": {
    "name": "ipython",
    "version": 3
   },
   "file_extension": ".py",
   "mimetype": "text/x-python",
   "name": "python",
   "nbconvert_exporter": "python",
   "pygments_lexer": "ipython3",
   "version": "3.8.3"
  }
 },
 "nbformat": 4,
 "nbformat_minor": 4
}
