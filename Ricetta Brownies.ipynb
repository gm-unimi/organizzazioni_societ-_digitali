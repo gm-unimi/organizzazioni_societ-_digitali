{
 "cells": [
  {
   "cell_type": "markdown",
   "metadata": {},
   "source": [
    "# BROWNIES "
   ]
  },
  {
   "cell_type": "markdown",
   "metadata": {},
   "source": [
    "Ricetta tratta da [**Giallo Zafferano**],(https://ricette.giallozafferano.it/Brownies.html)\n"
   ]
  },
  {
   "cell_type": "markdown",
   "metadata": {},
   "source": [
    "# PRESENTAZIONE\n",
    "Chi è stato negli U.S.A. difficilmente avrà resistito a quei quadrotti dal colore scuro, dalla leggera crosticina e dall’impasto denso di cioccolato e frutta secca che riempiono le vetrinette di bakery e caffetterie: i brownies! Amatissimi da grandi e piccoli, questi dolcetti della tradizione americana sono spesso accompagnati da panna montata o gelato alla vaniglia, ma nascono in versione “take away”, comoda e pratica da gustare a passeggio. Si racconta infatti che siano stati preparati la prima volta nel 1892 a Chicago quando, in occasione di una grande fiera per festeggiare i 400 anni dalla scoperta dell’America, un’altolocata signora di nome Bertha Palmer chiese al suo chef di ideare un dessert che fosse pratico da portarsi in giro per la città, senza il rischio di sporcarsi le mani o il vestito. Qualche versione moderna tende ad avvicinare la consistenza del brownie a quella di un tortino dal cuore morbido, lasciando l’impasto all’interno quasi fondente: una delizia sì, ma poco fedele al brownie originale, che deve lasciare le dita asciutte! Alla ricerca della versione perfetta, noi di Giallozafferano abbiamo sperimentato decine di ricette, per arrivare a quella che vi presentiamo oggi da fare in casa per la gioia di amici e bambini, magari in occasione di una delle feste americane più amate in Italia: Halloween!"
   ]
  },
  {
   "cell_type": "markdown",
   "metadata": {},
   "source": [
    "# INGREDIENTI\n",
    "* **Cioccolato fondente 265 g**\n",
    "* **Uova (circa 4) 200 g**\n",
    "* **Nocciole intere spellate 175 g**\n",
    "* **Burro a temperatura ambiente 135 g**\n",
    "* **Farina 130 g**\n",
    "* **Zucchero 255 g**\n",
    "* **Sale fino 1 pizzico**"
   ]
  },
  {
   "cell_type": "markdown",
   "metadata": {},
   "source": [
    "**Specifica per quante persone vuoi le dosi:**\n"
   ]
  },
  {
   "cell_type": "code",
   "execution_count": 3,
   "metadata": {},
   "outputs": [],
   "source": [
    "persone = 6"
   ]
  },
  {
   "cell_type": "markdown",
   "metadata": {},
   "source": [
    "# DOSI\n"
   ]
  },
  {
   "cell_type": "markdown",
   "metadata": {},
   "source": [
    "Cioccolato fondente(grammi)"
   ]
  },
  {
   "cell_type": "code",
   "execution_count": 8,
   "metadata": {},
   "outputs": [
    {
     "data": {
      "text/plain": [
       "265.002"
      ]
     },
     "execution_count": 8,
     "metadata": {},
     "output_type": "execute_result"
    }
   ],
   "source": [
    "# Cioccolato fondente(grammi)\n",
    "persone*44.167"
   ]
  },
  {
   "cell_type": "code",
   "execution_count": 9,
   "metadata": {},
   "outputs": [
    {
     "data": {
      "text/plain": [
       "198"
      ]
     },
     "execution_count": 9,
     "metadata": {},
     "output_type": "execute_result"
    }
   ],
   "source": [
    "# Uova (grammi)\n",
    "persone*33"
   ]
  },
  {
   "cell_type": "code",
   "execution_count": 10,
   "metadata": {},
   "outputs": [
    {
     "data": {
      "text/plain": [
       "174"
      ]
     },
     "execution_count": 10,
     "metadata": {},
     "output_type": "execute_result"
    }
   ],
   "source": [
    "# Nocciole intere spellate (grammi)\n",
    "persone*29"
   ]
  },
  {
   "cell_type": "code",
   "execution_count": 11,
   "metadata": {},
   "outputs": [
    {
     "data": {
      "text/plain": [
       "135.0"
      ]
     },
     "execution_count": 11,
     "metadata": {},
     "output_type": "execute_result"
    }
   ],
   "source": [
    "# Burro a temperatura ambiente (grammi)\n",
    "persone*22.5"
   ]
  },
  {
   "cell_type": "code",
   "execution_count": 12,
   "metadata": {},
   "outputs": [
    {
     "data": {
      "text/plain": [
       "130.02"
      ]
     },
     "execution_count": 12,
     "metadata": {},
     "output_type": "execute_result"
    }
   ],
   "source": [
    "# Farina (grammmi)\n",
    "persone*21.67"
   ]
  },
  {
   "cell_type": "code",
   "execution_count": 13,
   "metadata": {},
   "outputs": [
    {
     "data": {
      "text/plain": [
       "255.0"
      ]
     },
     "execution_count": 13,
     "metadata": {},
     "output_type": "execute_result"
    }
   ],
   "source": [
    "# Zucchero (grammi)\n",
    "persone*42.5"
   ]
  },
  {
   "cell_type": "code",
   "execution_count": null,
   "metadata": {},
   "outputs": [],
   "source": []
  },
  {
   "cell_type": "code",
   "execution_count": null,
   "metadata": {},
   "outputs": [],
   "source": []
  }
 ],
 "metadata": {
  "kernelspec": {
   "display_name": "Python 3",
   "language": "python",
   "name": "python3"
  },
  "language_info": {
   "codemirror_mode": {
    "name": "ipython",
    "version": 3
   },
   "file_extension": ".py",
   "mimetype": "text/x-python",
   "name": "python",
   "nbconvert_exporter": "python",
   "pygments_lexer": "ipython3",
   "version": "3.8.3"
  }
 },
 "nbformat": 4,
 "nbformat_minor": 4
}
