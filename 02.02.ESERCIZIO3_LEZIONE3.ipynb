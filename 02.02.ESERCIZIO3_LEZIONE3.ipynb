{
 "cells": [
  {
   "cell_type": "markdown",
   "metadata": {},
   "source": [
    "# ESERCIZIO"
   ]
  },
  {
   "cell_type": "markdown",
   "metadata": {},
   "source": [
    "1. Creare un array es1 di valori casuali interi (randint) di dimensione 3x5, con\n",
    "valore massimo (incluso) uguale a 8. Visualizzare es1"
   ]
  },
  {
   "cell_type": "code",
   "execution_count": 1,
   "metadata": {},
   "outputs": [
    {
     "data": {
      "text/plain": [
       "array([[5, 0, 3, 3, 7],\n",
       "       [3, 5, 2, 4, 7],\n",
       "       [6, 8, 8, 1, 6]])"
      ]
     },
     "execution_count": 1,
     "metadata": {},
     "output_type": "execute_result"
    }
   ],
   "source": [
    "import numpy as np\n",
    "np.random.seed(0)  # seed for reproducibility\n",
    "es1= np.random.randint (9, size=(3, 5))\n",
    "es1"
   ]
  },
  {
   "cell_type": "markdown",
   "metadata": {},
   "source": [
    "2. Selezionare gli elementi che hanno valore 5 (5 è un esempio, ovviamente potete scegliere un valore diverso), \n",
    "* prima utilizzando la posizione come indice, \n",
    "* poi usando la forma negativa dalla fine dell’array (vedere esempi)"
   ]
  },
  {
   "cell_type": "code",
   "execution_count": 6,
   "metadata": {},
   "outputs": [
    {
     "data": {
      "text/plain": [
       "(3, 3, 3)"
      ]
     },
     "execution_count": 6,
     "metadata": {},
     "output_type": "execute_result"
    }
   ],
   "source": [
    "#punto1 (scelgo valore 3 perchè si ripete più volte)\n",
    "es1[0,2],es1[0,3],es1[1,0]\n",
    "\n"
   ]
  },
  {
   "cell_type": "code",
   "execution_count": 7,
   "metadata": {},
   "outputs": [
    {
     "data": {
      "text/plain": [
       "(3, 3, 3)"
      ]
     },
     "execution_count": 7,
     "metadata": {},
     "output_type": "execute_result"
    }
   ],
   "source": [
    "#punto2a (prima uso l'indice negativo solo per le colonne)\n",
    "es1[0,-3],es1[0,-2],es1[1,-5]\n"
   ]
  },
  {
   "cell_type": "code",
   "execution_count": 8,
   "metadata": {},
   "outputs": [
    {
     "data": {
      "text/plain": [
       "(3, 3, 3)"
      ]
     },
     "execution_count": 8,
     "metadata": {},
     "output_type": "execute_result"
    }
   ],
   "source": [
    "#punto2b (uso l'indice negativo si aper le righe che per le colonne)\n",
    "es1[-3,-3],es1[-3,-2],es1[-2,-5]"
   ]
  },
  {
   "cell_type": "markdown",
   "metadata": {},
   "source": [
    "3. Selezionare il primo elemento della seconda riga, il quinto elemento della\n",
    "prima riga, il secondo elemento della seconda colonna, il quarto elemento\n",
    "della terza colonna"
   ]
  },
  {
   "cell_type": "code",
   "execution_count": 16,
   "metadata": {},
   "outputs": [
    {
     "data": {
      "text/plain": [
       "(3, 7, 5)"
      ]
     },
     "execution_count": 16,
     "metadata": {},
     "output_type": "execute_result"
    }
   ],
   "source": [
    "#esecuzione punti 1,2,3\n",
    "es1[1,0],es1[0,4],es1[1,1]\n",
    "#punto 4 \n",
    "#non si può eseguire, non esiste una quarta riga)"
   ]
  },
  {
   "cell_type": "markdown",
   "metadata": {},
   "source": [
    "4.\n",
    "* Sommare 10 all’elemento es1[0,0], \n",
    "* sottrarre 5 all’elemento es1[3,2],\n",
    "* sommare l’elemento es1[0,0] all’elemento es1[1,0] e il risultato metterlo in\n",
    "es1[2,0] (non usare i valori, usare i riferimenti alle posizioni dell’array)"
   ]
  },
  {
   "cell_type": "code",
   "execution_count": 17,
   "metadata": {},
   "outputs": [
    {
     "name": "stdout",
     "output_type": "stream",
     "text": [
      "15\n"
     ]
    }
   ],
   "source": [
    "#punto1\n",
    "print (es1[0,0]+10)"
   ]
  },
  {
   "cell_type": "code",
   "execution_count": 19,
   "metadata": {},
   "outputs": [
    {
     "name": "stdout",
     "output_type": "stream",
     "text": [
      "3\n"
     ]
    }
   ],
   "source": [
    "#punto2 (es1[3,2] non esiste uso es1[2,2])\n",
    "print(es1[2,2]-5)"
   ]
  },
  {
   "cell_type": "code",
   "execution_count": 21,
   "metadata": {},
   "outputs": [
    {
     "name": "stdout",
     "output_type": "stream",
     "text": [
      "valore di a: 8\n"
     ]
    }
   ],
   "source": [
    "#punto3a (uso una variabile per il risultato intermedio)\n",
    "a= es1[0,0]+es1[1,0]\n",
    "print(\"valore di a:\", a)"
   ]
  },
  {
   "cell_type": "code",
   "execution_count": 22,
   "metadata": {},
   "outputs": [
    {
     "name": "stdout",
     "output_type": "stream",
     "text": [
      "valore di es1[2,0] prima della sovrascrittura: 6\n",
      "valore di es1[2,0] dopo la sovrascrittura: 8\n"
     ]
    }
   ],
   "source": [
    "print(\"valore di es1[2,0] prima della sovrascrittura:\", es1[2,0])\n",
    "es1[2,0]=a\n",
    "print(\"valore di es1[2,0] dopo la sovrascrittura:\", es1[2,0])"
   ]
  },
  {
   "cell_type": "code",
   "execution_count": 23,
   "metadata": {},
   "outputs": [
    {
     "name": "stdout",
     "output_type": "stream",
     "text": [
      "valore di es1[2,1] prima della sovrascrittura: 8\n",
      "valore di es1[2,1] dopo la sovrascrittura: 5\n"
     ]
    }
   ],
   "source": [
    "#punto 3b: stessa operazione ma senza usare una variabile per il risultato intermedio\n",
    "# per i valori, prendo quelli della seconsa colonna\n",
    "print(\"valore di es1[2,1] prima della sovrascrittura:\", es1[2,1])\n",
    "es1[2,1]= es1[0,1]+es1[1,1]\n",
    "print(\"valore di es1[2,1] dopo la sovrascrittura:\", es1[2,1])"
   ]
  },
  {
   "cell_type": "code",
   "execution_count": null,
   "metadata": {},
   "outputs": [],
   "source": []
  }
 ],
 "metadata": {
  "anaconda-cloud": {},
  "kernelspec": {
   "display_name": "Python 3",
   "language": "python",
   "name": "python3"
  },
  "language_info": {
   "codemirror_mode": {
    "name": "ipython",
    "version": 3
   },
   "file_extension": ".py",
   "mimetype": "text/x-python",
   "name": "python",
   "nbconvert_exporter": "python",
   "pygments_lexer": "ipython3",
   "version": "3.8.3"
  }
 },
 "nbformat": 4,
 "nbformat_minor": 4
}
