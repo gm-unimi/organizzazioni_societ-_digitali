{
 "cells": [
  {
   "cell_type": "markdown",
   "metadata": {},
   "source": [
    "# Ricetta Cheesecake al cioccolato"
   ]
  },
  {
   "cell_type": "markdown",
   "metadata": {},
   "source": [
    "# INGREDIENTI PER LA BASE (PER UNA TORTIERA DI 24 CM)\n",
    "-Biscotti secchi al cioccolato 160 g\n",
    "-Burro 80 g\n",
    "#PER LA CREMA\n",
    "-Cioccolato fondente 200 g\n",
    "-Cacao amaro in polvere 20 g\n",
    "-Ricotta di bufala 250 g\n",
    "-Formaggio fresco spalmabile 250 g\n",
    "-Amido di mais (maizena) 50 g\n",
    "-Zucchero 120 g\n",
    "-Uova medie 2\n",
    "-Baccello di vaniglia ½\n",
    "-Latte intero 200 ml\n",
    "#PER DECORARE\n",
    "-Panna fresca liquida 150 ml"
   ]
  },
  {
   "cell_type": "code",
   "execution_count": 3,
   "metadata": {},
   "outputs": [
    {
     "data": {
      "text/plain": [
       "1200"
      ]
     },
     "execution_count": 3,
     "metadata": {},
     "output_type": "execute_result"
    }
   ],
   "source": [
    "n_persone = 6\n",
    "dose_cioccolato_a_persona = 200\n",
    "dose_cioccolato_tot = n_persone*dose_cioccolato_a_persona\n",
    "dose_cioccolato_tot"
   ]
  },
  {
   "cell_type": "code",
   "execution_count": null,
   "metadata": {},
   "outputs": [],
   "source": []
  }
 ],
 "metadata": {
  "kernelspec": {
   "display_name": "Python 3",
   "language": "python",
   "name": "python3"
  },
  "language_info": {
   "codemirror_mode": {
    "name": "ipython",
    "version": 3
   },
   "file_extension": ".py",
   "mimetype": "text/x-python",
   "name": "python",
   "nbconvert_exporter": "python",
   "pygments_lexer": "ipython3",
   "version": "3.8.3"
  }
 },
 "nbformat": 4,
 "nbformat_minor": 4
}
